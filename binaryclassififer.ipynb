{
 "cells": [
  {
   "cell_type": "markdown",
   "metadata": {},
   "source": [
    "# Binary classifier for tumor classfication"
   ]
  },
  {
   "cell_type": "markdown",
   "metadata": {},
   "source": [
    "#### This MLP classifier is designed to classify the presence tumor using the gene expression data.\n",
    "#### Import all the required python dependencies"
   ]
  },
  {
   "cell_type": "code",
   "execution_count": 20,
   "metadata": {
    "collapsed": false
   },
   "outputs": [],
   "source": [
    "%matplotlib inline\n",
    "import numpy as np\n",
    "from sklearn.decomposition import PCA\n",
    "import pandas as pd\n",
    "import matplotlib.pyplot as plt\n",
    "from sklearn.preprocessing import scale\n",
    "from costcla.models import CostSensitiveRandomForestClassifier\n",
    "from sklearn.metrics import accuracy_score,classification_report"
   ]
  },
  {
   "cell_type": "markdown",
   "metadata": {},
   "source": [
    "#### Importing the Dataset, selecting the best features by using the PCA transform variance plot where selecting the no of axis with high variance "
   ]
  },
  {
   "cell_type": "code",
   "execution_count": 22,
   "metadata": {
    "collapsed": false
   },
   "outputs": [
    {
     "data": {
      "text/plain": [
       "[<matplotlib.lines.Line2D at 0x7f85f341ea90>]"
      ]
     },
     "execution_count": 22,
     "metadata": {},
     "output_type": "execute_result"
    },
    {
     "data": {
      "image/png": "[encoded data removed]",
      "text/plain": [
       "<matplotlib.figure.Figure at 0x7f8629632f10>"
      ]
     },
     "metadata": {},
     "output_type": "display_data"
    }
   ],
   "source": [
    "data = pd.read_csv('colonTumor.data');\n",
    "datasets = data.values\n",
    "X = datasets[:,0:2000]\n",
    "Y = datasets[:,2000]\n",
    "X = scale(X)\n",
    "pca = PCA(n_components=61)\n",
    "pca.fit(X)\n",
    "var1=np.cumsum(np.round(pca.explained_variance_ratio_, decimals=4)*100)\n",
    "plt.plot(var1)"
   ]
  },
  {
   "cell_type": "markdown",
   "metadata": {},
   "source": [
    "#### The polt shows the  variance curve on the datset and it indicates that the variance converges after in the range of 38 to 42 and further transform the dataset to the axis of 40 features"
   ]
  },
  {
   "cell_type": "markdown",
   "metadata": {},
   "source": [
    "#### Based on the above variance graph gives that around 38-40 features will scaled down\n",
    "#### Spliting the dataset accordingly so that the 80% is given to the training set and also assigning the rest 20% to the test dataset"
   ]
  },
  {
   "cell_type": "code",
   "execution_count": 3,
   "metadata": {
    "collapsed": false
   },
   "outputs": [
    {
     "name": "stdout",
     "output_type": "stream",
     "text": [
      "[ 1.  1.  0.  0.  0.  0.  1.  0.  1.  1.  0.  0.  1.  1.  0.  0.  0.  0.\n",
      "  1.  0.  1.]\n"
     ]
    }
   ],
   "source": [
    "pca = PCA(n_components=40)\n",
    "pca.fit(X)\n",
    "X1=pca.fit_transform(X)\n",
    "X_train = X1[0:40,:]\n",
    "Y_train = Y[0:40]\n",
    "X_test = X1[40:61,:]\n",
    "Y_test = Y[40:61]\n",
    "print Y_test"
   ]
  },
  {
   "cell_type": "markdown",
   "metadata": {},
   "source": [
    "#### creating the cost matrix for the cost sensititive classification which is important to classify the skewed dataset cost matrix is created based on the factor of number of smaples belonging to the each class. The format of the cost matrix is as follows : [n_samples, 4] there each column represents false positives, false negatives, true positives and true negatives, for each example."
   ]
  },
  {
   "cell_type": "code",
   "execution_count": 16,
   "metadata": {
    "collapsed": false
   },
   "outputs": [],
   "source": [
    "mat = np.zeros((61,4))\n",
    "mat[:,0] = 0.55 * np.ones(61)\n",
    "mat[:,1] = 1.5 * np.ones(61)\n",
    "cost_mat_train = mat[0:40,:]\n",
    "cost_mat_test = mat[40:61,:]"
   ]
  },
  {
   "cell_type": "markdown",
   "metadata": {},
   "source": [
    "#### binary classification using cost sensititve random forest classifier with weighted_voting combination"
   ]
  },
  {
   "cell_type": "code",
   "execution_count": 17,
   "metadata": {
    "collapsed": false
   },
   "outputs": [],
   "source": [
    "f = CostSensitiveRandomForestClassifier(n_estimators = 25,combination=\"weighted_voting\")\n",
    "model = f.fit(X_train, Y_train, cost_mat_train)"
   ]
  },
  {
   "cell_type": "markdown",
   "metadata": {},
   "source": [
    "#### Predict the output from the trained model and print the output"
   ]
  },
  {
   "cell_type": "code",
   "execution_count": 18,
   "metadata": {
    "collapsed": false
   },
   "outputs": [
    {
     "name": "stdout",
     "output_type": "stream",
     "text": [
      "[ 1.  1.  0.  0.  0.  0.  1.  1.  1.  0.  0.  0.  0.  1.  0.  0.  0.  0.\n",
      "  1.  0.  1.]\n"
     ]
    }
   ],
   "source": [
    "Y_pred = model.predict(X_test)\n",
    "print Y_pred"
   ]
  },
  {
   "cell_type": "markdown",
   "metadata": {},
   "source": [
    "#### compare the results with the actual prediction and calculate the accuracy of the trained model"
   ]
  },
  {
   "cell_type": "code",
   "execution_count": 19,
   "metadata": {
    "collapsed": false
   },
   "outputs": [
    {
     "name": "stdout",
     "output_type": "stream",
     "text": [
      "                precision    recall  f1-score   support\n",
      "\n",
      "class negative       0.85      0.92      0.88        12\n",
      "class positive       0.88      0.78      0.82         9\n",
      "\n",
      "   avg / total       0.86      0.86      0.86        21\n",
      "\n",
      "Accuracy is: 85.7%\n"
     ]
    }
   ],
   "source": [
    "target_names = ['class negative', 'class positive']\n",
    "print(classification_report(Y_test, Y_pred, target_names=target_names))\n",
    "score = accuracy_score(Y_test , Y_pred)\n",
    "print(\n",
    "        \"Accuracy is: %.1f%%\" %\n",
    "        (score* 100)\n",
    "    )"
   ]
  }
 ],
 "metadata": {
  "kernelspec": {
   "display_name": "Python 2",
   "language": "python",
   "name": "python2"
  },
  "language_info": {
   "codemirror_mode": {
    "name": "ipython",
    "version": 2
   },
   "file_extension": ".py",
   "mimetype": "text/x-python",
   "name": "python",
   "nbconvert_exporter": "python",
   "pygments_lexer": "ipython2",
   "version": "2.7.6"
  }
 },
 "nbformat": 4,
 "nbformat_minor": 1
}
